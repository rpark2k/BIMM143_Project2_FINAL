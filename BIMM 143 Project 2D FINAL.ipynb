{
 "cells": [
  {
   "cell_type": "markdown",
   "id": "4b1b151e",
   "metadata": {},
   "source": [
    "# Introduction"
   ]
  },
  {
   "cell_type": "markdown",
   "id": "cea8050f",
   "metadata": {},
   "source": [
    "# Scientific Question: The protein Tau has several isoforms, how do they differ by their protein sequences using a BLAST search and pairwise sequence alignment?\n",
    "\n",
    "Protein Tau is universally known as one of the main factors of dementia and Alzheimer's disease (AD). The abnormally hyperphosphorylated form of tau is seen in all the diseases. Inhibiting the tau abnormality shows promise to therapeutic approaches to Alzheimer’s disease. (Khalid Iqbal, et al. 2005)\n",
    "\n",
    "This protein influences dementia and AD through its various forms and there has not been enough study on how those changes of isoforms effect dementia and AD. In AD, it appears that ß-amyloid peptide (Aß) plays a pivotal role in triggering the imbalance of the activities of different protein kinases and phosphatases from tau (Medeiros, Rodrigo et al.)\n",
    "\n",
    "Khalid Iqbal, et al. “Tau pathology in Alzheimer disease and other tauopathies”, Biochimica et Biophysica Acta (BBA) - Molecular Basis of Disease, Volume 1739, Issues 2–3, 2005, Pages 198-210, ISSN 0925-4439, https://doi.org/10.1016/j.bbadis.2004.09.008\n",
    "\n",
    "Medeiros, Rodrigo et al. “The role of tau in Alzheimer's disease and related disorders.” CNS neuroscience & therapeutics vol. 17,5 (2011): 514-24. doi:10.1111/j.1755-5949.2010.00177.x \n",
    "\n"
   ]
  },
  {
   "cell_type": "markdown",
   "id": "2e40a0c3",
   "metadata": {},
   "source": [
    "# Scientific Hypothesis: If all protein tau isoforms are causes of Alzheimer's disease, then comparing the sequence of an isoform with another through a BLAST search will result in several different regions of similarity.\n",
    "\n",
    "The NCBI data libray has documented 11 isoforms of protein tau. Based off of the numbered isoforms, we chose number 1 to be our test subject in comparison with another isoform. To find an isoform in comparison however, required a BLAST search that allows the isoform to identify the most similar isoform sequence to itself. The BLAST search was done as a protein BLAST, with the database as refseq selecting proteins, with the top 2 hits shown. Once the search was done, isoform 9 was the top resulting sequence with the highest similarity with isoform 1. \n",
    "\n",
    "Comparing these two sequences with pairwise sequence alignment would be able to analyze how similar the sequences are with the scoring method and we can use a dotplot to visualize the correlation between the two isoforms. Dotplots displays the changes between two or more objects. \n",
    "\n",
    "To test my hypothesis, the sequence of tau isoform 1 was used in a BLAST search to find tau isoform 9 which led to a pairwise sequence alignment between the two to compare the sequences. A dotplot was used after to visualize the comparison. "
   ]
  },
  {
   "cell_type": "markdown",
   "id": "7dc85d0a",
   "metadata": {},
   "source": [
    "# Loading in Packages\n",
    "\n",
    "Pandas: One of the most used packages within the Python community, this package is able to analyze data and create data frames that consists of rows and columns. Most data is taken from a CSV, SQL, or other types of files. Pandas is mainly used to create lists and disctionaries as looping through a code is more simple with the use of pandas.\n",
    "https://pandas.pydata.org/about/index.html\n",
    "\n",
    "Numpy: Numpy is used as a open source to enable numerical computing with Python. This package consists of many dimensinal arrays, numerical computing tools, and supports other hardware and computing platforms. The numpy vectorization, indexing, and broadcasting concepts are the main standard of array computing today. \n",
    "https://numpy.org/\n",
    "\n",
    "Matplotlib: This package is a plottling library for Python and has a numerical extension of numpy. This library is known to be a comprehensive library for creating static, animated, and interactive visualizations in Python. \n",
    "https://matplotlib.org/"
   ]
  },
  {
   "cell_type": "code",
   "execution_count": 1,
   "id": "66b85a96",
   "metadata": {
    "scrolled": false
   },
   "outputs": [
    {
     "name": "stdout",
     "output_type": "stream",
     "text": [
      "Collecting package metadata (current_repodata.json): done\n",
      "Solving environment: done\n",
      "\n",
      "# All requested packages already installed.\n",
      "\n",
      "\n",
      "Note: you may need to restart the kernel to use updated packages.\n"
     ]
    }
   ],
   "source": [
    "conda install -c bioconda pandas"
   ]
  },
  {
   "cell_type": "code",
   "execution_count": 2,
   "id": "4b49f959",
   "metadata": {
    "scrolled": true
   },
   "outputs": [
    {
     "name": "stdout",
     "output_type": "stream",
     "text": [
      "Collecting package metadata (current_repodata.json): done\n",
      "Solving environment: done\n",
      "\n",
      "# All requested packages already installed.\n",
      "\n",
      "\n",
      "Note: you may need to restart the kernel to use updated packages.\n"
     ]
    }
   ],
   "source": [
    "conda install -c bioconda numpy"
   ]
  },
  {
   "cell_type": "code",
   "execution_count": 3,
   "id": "edf35f34",
   "metadata": {
    "scrolled": false
   },
   "outputs": [
    {
     "name": "stdout",
     "output_type": "stream",
     "text": [
      "Collecting package metadata (current_repodata.json): done\n",
      "Solving environment: done\n",
      "\n",
      "# All requested packages already installed.\n",
      "\n",
      "\n",
      "Note: you may need to restart the kernel to use updated packages.\n"
     ]
    }
   ],
   "source": [
    "conda install -c bioconda matplotlib"
   ]
  },
  {
   "cell_type": "code",
   "execution_count": 4,
   "id": "32dc5cf9",
   "metadata": {},
   "outputs": [],
   "source": [
    "import pandas as pd\n",
    "import numpy as np\n",
    "import seaborn as sns\n",
    "import matplotlib.pyplot as plt\n",
    "from Bio import pairwise2\n",
    "from Bio import SeqIO\n",
    "from Bio.Seq import Seq \n",
    "from Bio.Blast import NCBIWWW\n",
    "from Bio.Blast import NCBIXML\n",
    "from itertools import combinations"
   ]
  },
  {
   "cell_type": "markdown",
   "id": "1216f834",
   "metadata": {},
   "source": [
    "# Performing Bioinformatics Analysis\n",
    "\n",
    "BLAST Search: This Basic Local Alignment Search Tool (BLAST) finds regions of similarity between biological sequences. In this project, a protein search was executed to compare the first tau isoform sequence to another isoform of highest similarity through the calculation of statistical significance. \n",
    "https://blast.ncbi.nlm.nih.gov/Blast.cgi"
   ]
  },
  {
   "cell_type": "code",
   "execution_count": 5,
   "id": "517dad22",
   "metadata": {
    "scrolled": true
   },
   "outputs": [],
   "source": [
    "# opens the sequence file which imports NCBI BLAST for search\n",
    "# define global variable sequence_data to store isoform 1 sequence\n",
    "sequence_data = open(\"tauisoform1.fasta\").read()"
   ]
  },
  {
   "cell_type": "code",
   "execution_count": 6,
   "id": "d124b8be",
   "metadata": {},
   "outputs": [
    {
     "data": {
      "text/plain": [
       "'>NP_058519.3 microtubule-associated protein tau isoform 1 [Homo sapiens]\\nMAEPRQEFEVMEDHAGTYGLGDRKDQGGYTMHQDQEGDTDAGLKESPLQTPTEDGSEEPGSETSDAKSTP\\nTAEDVTAPLVDEGAPGKQAAAQPHTEIPEGTTAEEAGIGDTPSLEDEAAGHVTQEPESGKVVQEGFLREP\\nGPPGLSHQLMSGMPGAPLLPEGPREATRQPSGTGPEDTEGGRHAPELLKHQLLGDLHQEGPPLKGAGGKE\\nRPGSKEEVDEDRDVDESSPQDSPPSKASPAQDGRPPQTAAREATSIPGFPAEGAIPLPVDFLSKVSTEIP\\nASEPDGPSVGRAKGQDAPLEFTFHVEITPNVQKEQAHSEEHLGRAAFPGAPGEGPEARGPSLGEDTKEAD\\nLPEPSEKQPAAAPRGKPVSRVPQLKARMVSKSKDGTGSDDKKAKTSTRSSAKTLKNRPCLSPKHPTPGSS\\nDPLIQPSSPAVCPEPPSSPKYVSSVTSRTGSSGAKEMKLKGADGKTKIATPRGAAPPGQKGQANATRIPA\\nKTPPAPKTPPSSGEPPKSGDRSGYSSPGSPGTPGSRSRTPSLPTPPTREPKKVAVVRTPPKSPSSAKSRL\\nQTAPVPMPDLKNVKSKIGSTENLKHQPGGGKVQIINKKLDLSNVQSKCGSKDNIKHVPGGGSVQIVYKPV\\nDLSKVTSKCGSLGNIHHKPGGGQVEVKSEKLDFKDRVQSKIGSLDNITHVPGGGNKKIETHKLTFRENAK\\nAKTDHGAEIVYKSPVVSGDTSPRHLSNVSSTGSIDMVDSPQLATLADEVSASLAKQGL\\n\\n'"
      ]
     },
     "execution_count": 6,
     "metadata": {},
     "output_type": "execute_result"
    }
   ],
   "source": [
    "# output the sequence file of tau isoform 1\n",
    "sequence_data"
   ]
  },
  {
   "cell_type": "code",
   "execution_count": 7,
   "id": "a69e5e8d",
   "metadata": {},
   "outputs": [
    {
     "name": "stdout",
     "output_type": "stream",
     "text": [
      "<_io.StringIO object at 0x7fdb5339cca0>\n"
     ]
    }
   ],
   "source": [
    "# calls the qblast function as main parameter\n",
    "# define global variable result_handle to store BLAST search output\n",
    "# database is (refseq_select_prot) and internal program is (blastp)\n",
    "# print to check the result\n",
    "\n",
    "result_handle = NCBIWWW.qblast(\"blastp\", \"refseq_select_prot\", sequence_data,\n",
    "                               hitlist_size = 2)\n",
    "print(result_handle)"
   ]
  },
  {
   "cell_type": "code",
   "execution_count": 8,
   "id": "c8731e6a",
   "metadata": {},
   "outputs": [
    {
     "data": {
      "text/plain": [
       "8707"
      ]
     },
     "execution_count": 8,
     "metadata": {},
     "output_type": "execute_result"
    }
   ],
   "source": [
    "# define global variable save_file to open a new xml file for results\n",
    "# create a file to add the results of the BLAST search\n",
    "# XML file works the best in this scenario as it can be used to add and remove data to be used later\n",
    "# reading the file checks to make sure the results has been added into the XML file\n",
    "save_file = open(\"results.xml\", \"w\")\n",
    "save_file.write(result_handle.read())"
   ]
  },
  {
   "cell_type": "code",
   "execution_count": 9,
   "id": "f404cf35",
   "metadata": {},
   "outputs": [
    {
     "name": "stdout",
     "output_type": "stream",
     "text": [
      "\n",
      "\n",
      "query: NP_058519.3 microtubule-associated protein tau isoform 1 [Homo sapiens]\n",
      "match: gi|1786986091|ref|NP_001364194.1| microtubule-associated protein tau isoform 9 [Homo sapiens]\n",
      "match: gi|1786986091|ref|NP_001364194.1| microtubule-associated protein tau isoform 9 [Homo sapiens]\n",
      "match: gi|84370347|ref|NP_001033698.1| microtubule-associated protein tau isoform a [Mus musculus]\n",
      "match: gi|84370347|ref|NP_001033698.1| microtubule-associated protein tau isoform a [Mus musculus]\n"
     ]
    }
   ],
   "source": [
    "# define global variable E_VALUE_THRESH to specify the results of BLAST search by E value\n",
    "# open the file using NCBIXML parse method\n",
    "# use for loop to get top 2 results from BLAST search, (in this case each isoform had 2 sections of similarity) \n",
    "# the third and fourth result was from mice, a result to disregard\n",
    "E_VALUE_THRESH = 1e-20\n",
    "for record in NCBIXML.parse(open(\"results.xml\")):\n",
    "    if record.alignments:\n",
    "        print(\"\\n\")\n",
    "        print(\"query: %s\" % record.query[:100])\n",
    "        for align in record.alignments:\n",
    "            for hsp in align.hsps:\n",
    "                if hsp.expect < E_VALUE_THRESH:\n",
    "                    print(\"match: %s\" % align.title[:100])"
   ]
  },
  {
   "cell_type": "markdown",
   "id": "e394223d",
   "metadata": {},
   "source": [
    "Pairwise Sequence Alignment: To identify regions of similarity between two different biological sequences, pariwise sequence alignment is used to indicate functional, structural, or evolutionary relationships. The results of this analysis conclude with a score of what matches or mismatches between the sequences. Global and local alignment are the two types of pairwise sequence alignment, where one uses the entirety of the sequence and the other only uses the regions of higher similarity. \n",
    "https://www.ebi.ac.uk/Tools/psa/"
   ]
  },
  {
   "cell_type": "code",
   "execution_count": 10,
   "id": "0ab3d9ec",
   "metadata": {
    "scrolled": true
   },
   "outputs": [
    {
     "name": "stdout",
     "output_type": "stream",
     "text": [
      "<class 'Bio.SeqIO.FastaIO.FastaIterator'>\n",
      "<Bio.SeqIO.FastaIO.FastaIterator object at 0x7fdb533bb730>\n",
      "<class 'Bio.SeqRecord.SeqRecord'>\n",
      "ID: NP_058519.3\n",
      "Name: NP_058519.3\n",
      "Description: NP_058519.3 microtubule-associated protein tau isoform 1 [Homo sapiens]\n",
      "Number of features: 0\n",
      "Seq('MAEPRQEFEVMEDHAGTYGLGDRKDQGGYTMHQDQEGDTDAGLKESPLQTPTED...QGL')\n",
      "<class 'Bio.SeqRecord.SeqRecord'>\n",
      "ID: NP_001364194.1\n",
      "Name: NP_001364194.1\n",
      "Description: NP_001364194.1 microtubule-associated protein tau isoform 9 [Homo sapiens]\n",
      "Number of features: 0\n",
      "Seq('MAEPRQEFEVMEDHAGTYGLGDRKDQGGYTMHQDQEGDTDAGLKESPLQTPTED...QGL')\n"
     ]
    }
   ],
   "source": [
    "# define global variable sequence to parse both sequences from one fasta file\n",
    "# print out the two isoform sequences\n",
    "# use a for loop to print out both sequences from one file\n",
    "sequence = SeqIO.parse(\"mult_seq.fasta\", \"fasta\")\n",
    "print(type(sequence))\n",
    "print(sequence)\n",
    "for s in sequence:\n",
    "    print(type(s))\n",
    "    print(s)"
   ]
  },
  {
   "cell_type": "code",
   "execution_count": 11,
   "id": "b292bf4d",
   "metadata": {},
   "outputs": [
    {
     "name": "stdout",
     "output_type": "stream",
     "text": [
      "MAEPRQEFEVMEDHAGTYGLGDRKDQGGYTMHQDQEGDTDAGLKESPLQTPTEDGSEEPGSETSDAKSTPTAEDVTAPLVDEGAPGKQAAAQPHTEIPEGTTAEEAGIGDTPSLEDEAAGHVTQEPESGKVVQEGFLREPGPPGLSHQLMSGMPGAPLLPEGPREATRQPSGTGPEDTEGGRHAPELLKHQLLGDLHQEGPPLKGAGGKERPGSKEEVDEDRDVDESSPQDSPPSKASPAQDGRPPQTAAREATSIPGFPAEGAIPLPVDFLSKVSTEIPASEPDGPSVGRAKGQDAPLEFTFHVEITPNVQKEQAHSEEHLGRAAFPGAPGEGPEARGPSLGEDTKEADLPEPSEKQPAAAPRGKPVSRVPQLKARMVSKSKDGTGSDDKKAKTSTRSSAKTLKNRPCLSPKHPTPGSSDPLIQPSSPAVCPEPPSSPKYVSSVTSRTGSSGAKEMKLKGADGKTKIATPRGAAPPGQKGQANATRIPAKTPPAPKTPPSSGEPPKSGDRSGYSSPGSPGTPGSRSRTPSLPTPPTREPKKVAVVRTPPKSPSSAKSRLQTAPVPMPDLKNVKSKIGSTENLKHQPGGGKVQIINKKLDLSNVQSKCGSKDNIKHVPGGGSVQIVYKPVDLSKVTSKCGSLGNIHHKPGGGQVEVKSEKLDFKDRVQSKIGSLDNITHVPGGGNKKIETHKLTFRENAKAKTDHGAEIVYKSPVVSGDTSPRHLSNVSSTGSIDMVDSPQLATLADEVSASLAKQGL\n",
      "MAEPRQEFEVMEDHAGTYGLGDRKDQGGYTMHQDQEGDTDAGLKESPLQTPTEDGSEEPGSETSDAKSTPTAEAEEAGIGDTPSLEDEAAGHVTQEELRVPGRQRKAPERPLANEISAHVQPGPCGEASGVSGPCLGEKEPEAPVPLTASLPQHRPVCPAPPPTGGPQEPSLEWGQKGGDWAEKGPAFPKPATTAYLHTEPESGKVVQEGFLREPGPPGLSHQLMSGMPGAPLLPEGPREATRQPSGTGPEDTEGGRHAPELLKHQLLGDLHQEGPPLKGAGGKERPGSKEEVDEDRDVDESSPQDSPPSKASPAQDGRPPQTAAREATSIPGFPAEGAIPLPVDFLSKVSTEIPASEPDGPSVGRAKGQDAPLEFTFHVEITPNVQKEQAHSEEHLGRAAFPGAPGEGPEARGPSLGEDTKEADLPEPSEKQPAAAPRGKPVSRVPQLKARMVSKSKDGTGSDDKKAKTSTRSSAKTLKNRPCLSPKHPTPGSSDPLIQPSSPAVCPEPPSSPKYVSSVTSRTGSSGAKEMKLKGADGKTKIATPRGAAPPGQKGQANATRIPAKTPPAPKTPPSSGEPPKSGDRSGYSSPGSPGTPGSRSRTPSLPTPPTREPKKVAVVRTPPKSPSSAKSRLQTAPVPMPDLKNVKSKIGSTENLKHQPGGGKVQIINKKLDLSNVQSKCGSKDNIKHVPGGGSVQIVYKPVDLSKVTSKCGSLGNIHHKPGGGQVEVKSEKLDFKDRVQSKIGSLDNITHVPGGGNKKIETHKLTFRENAKAKTDHGAEIVYKSPVVSGDTSPRHLSNVSSTGSIDMVDSPQLATLADEVSASLAKQGL\n",
      "-344\n"
     ]
    }
   ],
   "source": [
    "# define function of scoring of pairwise sequence alignment\n",
    "\n",
    "def score(sequence1, sequence2):\n",
    "    a = 0\n",
    "    for pos in range(0, min(len(sequence1), len(sequence2))):\n",
    "        if sequence1[pos] == sequence2[pos]:\n",
    "            a += 2\n",
    "        if sequence1[pos] != sequence2[pos]:\n",
    "            a += -1\n",
    "        if sequence1[pos] == sequence2[pos] == '-':\n",
    "            a += -2\n",
    "    return a\n",
    "\n",
    "# this is comparing the two sequences using the score that was created above\n",
    "# define local variable seq_records to parse file inputted from definition\n",
    "# define local variable array to create a new array for result\n",
    "# for loop to run through the file inputted\n",
    "# define local variable sequence1 as the first sequence from the file\n",
    "# define local variable sequence2 as the second sequence from the file\n",
    "# print both sequences and score\n",
    "\n",
    "def sequence_compare(file):\n",
    "    seq_records = SeqIO.parse(file, \"fasta\")\n",
    "    array = np.empty(1, int)\n",
    "    for record1, record2 in combinations(seq_records, 2):\n",
    "        sequence1 = record1.seq\n",
    "        sequence2 = record2.seq\n",
    "        a = score(sequence1, sequence2)\n",
    "        array = np.append(array, [a], axis = 0)\n",
    "        print(sequence1)\n",
    "        print(sequence2)\n",
    "        print(a)\n",
    "\n",
    "sequence_compare(\"mult_seq.fasta\")"
   ]
  },
  {
   "cell_type": "markdown",
   "id": "b28b87f9",
   "metadata": {},
   "source": [
    "# Plotting the Results\n",
    "\n",
    "Dot Plots: Using the matplotlib package, a dot plot can be made. It is a statistical chart consisting of dots to compare two objects and display the differences. A dot plot can clearly visualize the regions of difference, where that analysis can bring conclusions to the study. \n",
    "https://plotly.com/python/dot-plots/"
   ]
  },
  {
   "cell_type": "code",
   "execution_count": 12,
   "id": "0626c95c",
   "metadata": {},
   "outputs": [
    {
     "name": "stdout",
     "output_type": "stream",
     "text": [
      "MAEPRQEFEVMEDHAGTYGLGDRKDQGGYTMHQDQEGDTDAGLKESPLQTPTEDGSEEPGSETSDAKSTPTAEDVTAPLVDEGAPGKQAAAQPHTEIPEGTTAEEAGIGDTPSLEDEAAGHVTQEPESGKVVQEGFLREPGPPGLSHQLMSGMPGAPLLPEGPREATRQPSGTGPEDTEGGRHAPELLKHQLLGDLHQEGPPLKGAGGKERPGSKEEVDEDRDVDESSPQDSPPSKASPAQDGRPPQTAAREATSIPGFPAEGAIPLPVDFLSKVSTEIPASEPDGPSVGRAKGQDAPLEFTFHVEITPNVQKEQAHSEEHLGRAAFPGAPGEGPEARGPSLGEDTKEADLPEPSEKQPAAAPRGKPVSRVPQLKARMVSKSKDGTGSDDKKAKTSTRSSAKTLKNRPCLSPKHPTPGSSDPLIQPSSPAVCPEPPSSPKYVSSVTSRTGSSGAKEMKLKGADGKTKIATPRGAAPPGQKGQANATRIPAKTPPAPKTPPSSGEPPKSGDRSGYSSPGSPGTPGSRSRTPSLPTPPTREPKKVAVVRTPPKSPSSAKSRLQTAPVPMPDLKNVKSKIGSTENLKHQPGGGKVQIINKKLDLSNVQSKCGSKDNIKHVPGGGSVQIVYKPVDLSKVTSKCGSLGNIHHKPGGGQVEVKSEKLDFKDRVQSKIGSLDNITHVPGGGNKKIETHKLTFRENAKAKTDHGAEIVYKSPVVSGDTSPRHLSNVSSTGSIDMVDSPQLATLADEVSASLAKQGL\n"
     ]
    }
   ],
   "source": [
    "# Define global variable Fasta to parse a list of both sequences from fasta file\n",
    "# Define global variable isoform1 to store the first item on list as first sequence\n",
    "# print the isoform\n",
    "\n",
    "Fasta = list(SeqIO.parse(\"mult_seq.fasta\", \"fasta\"))\n",
    "isoform1 = Fasta[0].seq\n",
    "print(isoform1)"
   ]
  },
  {
   "cell_type": "code",
   "execution_count": 13,
   "id": "77d9a949",
   "metadata": {},
   "outputs": [
    {
     "name": "stdout",
     "output_type": "stream",
     "text": [
      "MAEPRQEFEVMEDHAGTYGLGDRKDQGGYTMHQDQEGDTDAGLKESPLQTPTEDGSEEPGSETSDAKSTPTAEAEEAGIGDTPSLEDEAAGHVTQEELRVPGRQRKAPERPLANEISAHVQPGPCGEASGVSGPCLGEKEPEAPVPLTASLPQHRPVCPAPPPTGGPQEPSLEWGQKGGDWAEKGPAFPKPATTAYLHTEPESGKVVQEGFLREPGPPGLSHQLMSGMPGAPLLPEGPREATRQPSGTGPEDTEGGRHAPELLKHQLLGDLHQEGPPLKGAGGKERPGSKEEVDEDRDVDESSPQDSPPSKASPAQDGRPPQTAAREATSIPGFPAEGAIPLPVDFLSKVSTEIPASEPDGPSVGRAKGQDAPLEFTFHVEITPNVQKEQAHSEEHLGRAAFPGAPGEGPEARGPSLGEDTKEADLPEPSEKQPAAAPRGKPVSRVPQLKARMVSKSKDGTGSDDKKAKTSTRSSAKTLKNRPCLSPKHPTPGSSDPLIQPSSPAVCPEPPSSPKYVSSVTSRTGSSGAKEMKLKGADGKTKIATPRGAAPPGQKGQANATRIPAKTPPAPKTPPSSGEPPKSGDRSGYSSPGSPGTPGSRSRTPSLPTPPTREPKKVAVVRTPPKSPSSAKSRLQTAPVPMPDLKNVKSKIGSTENLKHQPGGGKVQIINKKLDLSNVQSKCGSKDNIKHVPGGGSVQIVYKPVDLSKVTSKCGSLGNIHHKPGGGQVEVKSEKLDFKDRVQSKIGSLDNITHVPGGGNKKIETHKLTFRENAKAKTDHGAEIVYKSPVVSGDTSPRHLSNVSSTGSIDMVDSPQLATLADEVSASLAKQGL\n"
     ]
    }
   ],
   "source": [
    "# Define global variable BLAST_hit as the resulting isoform from the BLAST search above, tau isoform 9\n",
    "# BLAST_hit takes the second item on the Fasta list \n",
    "# print BLAST_hit\n",
    "\n",
    "BLAST_hit = Fasta[1].seq\n",
    "print(BLAST_hit)"
   ]
  },
  {
   "cell_type": "code",
   "execution_count": 14,
   "id": "0431556e",
   "metadata": {},
   "outputs": [],
   "source": [
    "# Setting the window size and which sequence is on the x and y axes of the dot plot\n",
    "\n",
    "window = 3\n",
    "seq_one = str(isoform1)\n",
    "seq_two = str(BLAST_hit)\n",
    "\n",
    "# Saving the data in the dot plot based on window size and comparing for all I and all j in the range of the lengths of the\n",
    "# sequences, wheter or not there is an alignment.\n",
    "\n",
    "data = [\n",
    "    [\n",
    "        (seq_one[i : i + window] != seq_two[j: j + window])\n",
    "        for j in range(len(seq_one) - window)\n",
    "    ]\n",
    "    for i in range(len(seq_two) - window)\n",
    "]"
   ]
  },
  {
   "cell_type": "code",
   "execution_count": 15,
   "id": "4617422a",
   "metadata": {
    "scrolled": true
   },
   "outputs": [
    {
     "data": {
      "image/png": "[encoded data removed]",
      "text/plain": [
       "<Figure size 432x288 with 1 Axes>"
      ]
     },
     "metadata": {
      "needs_background": "light"
     },
     "output_type": "display_data"
    }
   ],
   "source": [
    "# label the graph and display the graph\n",
    "\n",
    "import pylab\n",
    "\n",
    "pylab.gray()\n",
    "pylab.imshow(data)\n",
    "pylab.xlabel(\"%s (length %i bp)\" % (Fasta[0].id, len(Fasta[0].seq)))\n",
    "pylab.ylabel(\"%s (length %i bp)\" % (Fasta[1].id, len(Fasta[1].seq)))\n",
    "pylab.title(\"Dot plot using window size %i\\n(allowing no mis-matches)\" % window)\n",
    "pylab.show()"
   ]
  },
  {
   "cell_type": "markdown",
   "id": "be7a6ad2",
   "metadata": {},
   "source": [
    "# Analysis\n",
    "\n",
    "The resulting dot plot shows the protein sequence relationship between protein tau isoform 1 (x-axis) and protein tau isoform 9 (y-axis). We can see a few gray lines within the graph representing the similar regions of the two isoforms. Although not a perfectly straight line, this visualization shows the specific regions the isoforms are similar. As different isoforms, we do not expect the sequences to be exactly similar thus making my hypothesis correct. There are three specific regions of these two isoforms that are similar but there are other portions of the sequences where they do not line up. The tau isoforms are not necessarily the cause of AD, but more a precursor to hyperphosphorylation which leads to AD. Figuring out the patterns of the different isoforms can help in the advancement for the cure of dementia and AD. This procedure can be used for the remaining isoforms and thus can be compared to see any patterns of similarity. "
   ]
  },
  {
   "cell_type": "code",
   "execution_count": null,
   "id": "a3312c60",
   "metadata": {},
   "outputs": [],
   "source": []
  }
 ],
 "metadata": {
  "kernelspec": {
   "display_name": "Python 3",
   "language": "python",
   "name": "python3"
  },
  "language_info": {
   "codemirror_mode": {
    "name": "ipython",
    "version": 3
   },
   "file_extension": ".py",
   "mimetype": "text/x-python",
   "name": "python",
   "nbconvert_exporter": "python",
   "pygments_lexer": "ipython3",
   "version": "3.8.8"
  }
 },
 "nbformat": 4,
 "nbformat_minor": 5
}
